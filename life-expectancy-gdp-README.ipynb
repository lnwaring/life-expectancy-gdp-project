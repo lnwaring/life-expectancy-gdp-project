{
 "cells": [
  {
   "cell_type": "markdown",
   "id": "ecad7599-e8e5-451e-9b22-ac377ea2a220",
   "metadata": {},
   "source": [
    "# Life Expectancy & GDP\n",
    "\n",
    "#### Summary\n",
    "\n",
    "This project explores the relationship between life expectancy and GDP across six countries using data from the World Bank and World Health Organisation. The aim was to analyse data on life expectancy and GDP in order to determine whether there is a strong relationship between the two variables.\n",
    "\n",
    "#### Tools & Skills Used:\n",
    "- Python (Pandas, NumPy)\n",
    "- Data visualisation (Matplotlib, Seaborn)\n",
    "- Statistical analysis (SciPy & StatsModels)\n",
    "- Exploratory data analysis (EDA)\n",
    "\n",
    "#### Key Insights:\n",
    "- Life expectancy was generally higher in more developed countries, with Zimbabwe showing significantly lower values.\n",
    "- GDP showed far more disparity across countries, with the USA and China contributing to a highly skewed distribution.\n",
    "- A positive correlation between GDP and life expectancy was observed in all six countries, though the strength and linearity of the relationship varied.\n",
    "\n",
    "#### Data Source\n",
    "- GDP Source: [World Bank](https://data.worldbank.org/indicator/NY.GDP.MKTP.CD) national accounts data, and OECD National Accounts data files.\n",
    "- Life Expectancy Data Source: [World Health Organization](http://apps.who.int/gho/data/node.main.688)\n",
    "\n",
    "#### How to View\n",
    "- Open `life-expectancy-gdp.ipynb` in Jupyter or any compatible notebook viewer to explore the analysis and findings.\n",
    "\n",
    "#### Created by:\n",
    "##### Lauren Waring\n",
    "[LinkedIn](https://www.linkedin.com/in/lauren-waring-5472a5148/) • [GitHub](https://github.com/lnwaring)"
   ]
  }
 ],
 "metadata": {
  "kernelspec": {
   "display_name": "Python [conda env:base] *",
   "language": "python",
   "name": "conda-base-py"
  },
  "language_info": {
   "codemirror_mode": {
    "name": "ipython",
    "version": 3
   },
   "file_extension": ".py",
   "mimetype": "text/x-python",
   "name": "python",
   "nbconvert_exporter": "python",
   "pygments_lexer": "ipython3",
   "version": "3.12.7"
  }
 },
 "nbformat": 4,
 "nbformat_minor": 5
}
